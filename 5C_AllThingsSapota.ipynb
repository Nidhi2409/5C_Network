{
  "nbformat": 4,
  "nbformat_minor": 0,
  "metadata": {
    "colab": {
      "provenance": []
    },
    "kernelspec": {
      "name": "python3",
      "display_name": "Python 3"
    },
    "language_info": {
      "name": "python"
    }
  },
  "cells": [
    {
      "cell_type": "code",
      "execution_count": 1,
      "metadata": {
        "id": "bFhXhNTkbDhG"
      },
      "outputs": [],
      "source": [
        "import pandas as pd"
      ]
    },
    {
      "cell_type": "code",
      "source": [
        "# Load the dataset from the provided data\n",
        "data = pd.read_csv('/content/sales_data_1.csv')"
      ],
      "metadata": {
        "id": "ky5qwJmGbS9G"
      },
      "execution_count": 2,
      "outputs": []
    },
    {
      "cell_type": "code",
      "source": [
        "# Convert the 'date' column to a datetime object for date-related operations\n",
        "data['Date'] = pd.to_datetime(data['Date'])"
      ],
      "metadata": {
        "id": "Uqyj8KYQbX6I"
      },
      "execution_count": 5,
      "outputs": []
    },
    {
      "cell_type": "code",
      "source": [
        "# Calculate the total revenue and total cost\n",
        "data['Revenue'] = data['Selling price'] * data['Quantity sold']\n",
        "data['Cost'] = data['Buying price'] * data['Quantity sold']"
      ],
      "metadata": {
        "id": "tdWeKrSNbZ6T"
      },
      "execution_count": 6,
      "outputs": []
    },
    {
      "cell_type": "code",
      "source": [
        "# Calculate gross margin\n",
        "total_revenue = data['Revenue'].sum()\n",
        "total_cost = data['Cost'].sum()\n",
        "gross_margin = ((total_revenue - total_cost) / total_revenue) * 100"
      ],
      "metadata": {
        "id": "ATNj3IDZbhBo"
      },
      "execution_count": 7,
      "outputs": []
    },
    {
      "cell_type": "code",
      "source": [
        "# Calculate profit for each vendor and customer\n",
        "vendor_profit = data.groupby('Firm bought from')['Revenue'].sum() - data.groupby('Firm bought from')['Cost'].sum()\n",
        "customer_profit = data.groupby('Customer')['Revenue'].sum() - data.groupby('Customer')['Cost'].sum()"
      ],
      "metadata": {
        "id": "m_0J8iW4bjcr"
      },
      "execution_count": 8,
      "outputs": []
    },
    {
      "cell_type": "code",
      "source": [
        "# Calculate profit by day of the week\n",
        "data['Day_of_Week'] = data['Date'].dt.day_name()\n",
        "day_profit = data.groupby('Day_of_Week')['Revenue'].sum() - data.groupby('Day_of_Week')['Cost'].sum()"
      ],
      "metadata": {
        "id": "ZMCG52HKblx0"
      },
      "execution_count": 10,
      "outputs": []
    },
    {
      "cell_type": "markdown",
      "source": [
        "## Answers (1-5)"
      ],
      "metadata": {
        "id": "rSQ_emE3dHuj"
      }
    },
    {
      "cell_type": "code",
      "source": [
        "# Answers\n",
        "print(f\"1. Overall Gross Margin: {gross_margin:.2f}%\")\n",
        "print(f\"2. Most Profitable Vendor: {vendor_profit.idxmax()}\")\n",
        "print(f\"3. Least Profitable Customer: {customer_profit.idxmin()}\")\n",
        "print(f\"4. Most Profitable Day of the Week: {day_profit.idxmax()}\")\n",
        "print(f\"5. Least Profitable Day of the Week: {day_profit.idxmin()}\")"
      ],
      "metadata": {
        "colab": {
          "base_uri": "https://localhost:8080/"
        },
        "id": "fxj2sOzxbpGT",
        "outputId": "6a85e162-3845-4a46-c0c6-db439a1452e0"
      },
      "execution_count": 11,
      "outputs": [
        {
          "output_type": "stream",
          "name": "stdout",
          "text": [
            "1. Overall Gross Margin: 24.63%\n",
            "2. Most Profitable Vendor: Vendor4\n",
            "3. Least Profitable Customer: Customer3\n",
            "4. Most Profitable Day of the Week: Monday\n",
            "5. Least Profitable Day of the Week: Sunday\n"
          ]
        }
      ]
    },
    {
      "cell_type": "code",
      "source": [
        "# Load the new dataset\n",
        "data2 = pd.read_csv('/content/sales_data_2.csv')"
      ],
      "metadata": {
        "id": "60r6uBdZbu0Q"
      },
      "execution_count": 12,
      "outputs": []
    },
    {
      "cell_type": "code",
      "source": [
        "# Convert the 'date' column to a datetime object for date-related operations\n",
        "data2['Date'] = pd.to_datetime(data2['Date'])"
      ],
      "metadata": {
        "id": "uBM14o7qcW7E"
      },
      "execution_count": 13,
      "outputs": []
    },
    {
      "cell_type": "code",
      "source": [
        "# Calculate daily gross profit\n",
        "data2['Revenue'] = data2['Selling price'] * data2['Quantity sold']\n",
        "data2['Cost'] = data2['Buying price'] * data2['Quantity sold']\n",
        "data2['Gross Profit'] = data2['Revenue'] - data2['Cost']"
      ],
      "metadata": {
        "id": "tSOhDMuAcaYD"
      },
      "execution_count": 15,
      "outputs": []
    },
    {
      "cell_type": "code",
      "source": [
        "# Calculate a 3-day moving average of the daily gross profit\n",
        "data2['3-Day Avg Gross Profit'] = data2['Gross Profit'].rolling(window=3).mean()"
      ],
      "metadata": {
        "id": "T1MDJfBScc45"
      },
      "execution_count": 16,
      "outputs": []
    },
    {
      "cell_type": "markdown",
      "source": [
        "## 6. Calculate a 3-day average of the daily gross profit"
      ],
      "metadata": {
        "id": "YxVcjEuXdWR2"
      }
    },
    {
      "cell_type": "code",
      "source": [
        "three_day_avg = data2['3-Day Avg Gross Profit']\n",
        "print(three_day_avg)"
      ],
      "metadata": {
        "colab": {
          "base_uri": "https://localhost:8080/"
        },
        "id": "d2l6WeoCch0q",
        "outputId": "2b0b6df7-bcc2-40fc-f14c-017435a327bd"
      },
      "execution_count": 18,
      "outputs": [
        {
          "output_type": "stream",
          "name": "stdout",
          "text": [
            "0            NaN\n",
            "1            NaN\n",
            "2     433.613333\n",
            "3     177.266667\n",
            "4     142.366667\n",
            "         ...    \n",
            "65    552.863333\n",
            "66    552.070000\n",
            "67    479.726667\n",
            "68    386.093333\n",
            "69    366.720000\n",
            "Name: 3-Day Avg Gross Profit, Length: 70, dtype: float64\n"
          ]
        }
      ]
    },
    {
      "cell_type": "markdown",
      "source": [
        "## 7. Analyze trends in the 3-day average gross profit"
      ],
      "metadata": {
        "id": "8190RkLsdZxz"
      }
    },
    {
      "cell_type": "code",
      "source": [
        "import pandas as pd\n",
        "import matplotlib.pyplot as plt"
      ],
      "metadata": {
        "id": "Z_R3gTtNdi9G"
      },
      "execution_count": 22,
      "outputs": []
    },
    {
      "cell_type": "code",
      "source": [
        "# Calculate daily gross profit\n",
        "data2['Revenue'] = data2['Selling price'] * data2['Quantity sold']\n",
        "data2['Cost'] = data2['Buying price'] * data2['Quantity sold']\n",
        "data2['Gross Profit'] = data2['Revenue'] - data2['Cost']"
      ],
      "metadata": {
        "id": "pr86q1oPcpMG"
      },
      "execution_count": 23,
      "outputs": []
    },
    {
      "cell_type": "code",
      "source": [
        "# Calculate a 3-day moving average of the daily gross profit\n",
        "data2['3-Day Avg Gross Profit'] = data2['Gross Profit'].rolling(window=3).mean()"
      ],
      "metadata": {
        "id": "NNTir9jsdAMD"
      },
      "execution_count": 24,
      "outputs": []
    },
    {
      "cell_type": "code",
      "source": [
        "# Create a line plot for the 3-day average gross profit\n",
        "plt.figure(figsize=(10, 5))\n",
        "plt.plot(data2['Date'], data2['3-Day Avg Gross Profit'], label='3-Day Avg Gross Profit', color='blue')\n",
        "plt.title('3-Day Average Gross Profit Trend')\n",
        "plt.xlabel('Date')\n",
        "plt.ylabel('3-Day Avg Gross Profit')\n",
        "plt.grid(True)\n",
        "plt.legend()\n",
        "# Show the plot\n",
        "plt.show()"
      ],
      "metadata": {
        "colab": {
          "base_uri": "https://localhost:8080/",
          "height": 487
        },
        "id": "hiviW2A_dCV1",
        "outputId": "1b7d4bd7-930c-4503-e4da-0b4f685dd22b"
      },
      "execution_count": 29,
      "outputs": [
        {
          "output_type": "display_data",
          "data": {
            "text/plain": [
              "<Figure size 1000x500 with 1 Axes>"
            ],
            "image/png": "[encoded data removed]"
          },
          "metadata": {}
        }
      ]
    },
    {
      "cell_type": "markdown",
      "source": [
        "## 8. Optimize the sales process"
      ],
      "metadata": {
        "id": "FmhY2BbZd3dk"
      }
    },
    {
      "cell_type": "code",
      "source": [
        "# Calculate vendor and customer profitability and make decisions based on profit analysis.\n",
        "vendor_profit = data2.groupby('Firm bought from')['Gross Profit'].sum()\n",
        "customer_profit = data2.groupby('Customer')['Gross Profit'].sum()\n",
        "print(\"Vendor Profit\")\n",
        "print(vendor_profit)\n",
        "print(\"Customer Profit\")\n",
        "print(customer_profit)"
      ],
      "metadata": {
        "colab": {
          "base_uri": "https://localhost:8080/"
        },
        "id": "A1TN3peudEJj",
        "outputId": "49bbfc21-912e-4fc2-8683-90e6fa02b6e8"
      },
      "execution_count": 32,
      "outputs": [
        {
          "output_type": "stream",
          "name": "stdout",
          "text": [
            "Vendor Profit\n",
            "Firm bought from\n",
            "Vendor1     1555.59\n",
            "Vendor10    3040.62\n",
            "Vendor2     1296.98\n",
            "Vendor3     6370.67\n",
            "Vendor4     6903.31\n",
            "Vendor5     1616.14\n",
            "Vendor6     1217.95\n",
            "Vendor7     4961.05\n",
            "Vendor8      253.74\n",
            "Vendor9     4266.70\n",
            "Name: Gross Profit, dtype: float64\n",
            "Customer Profit\n",
            "Customer\n",
            "Customer1     5310.57\n",
            "Customer10    3692.44\n",
            "Customer2     4215.67\n",
            "Customer3     1055.05\n",
            "Customer4     3337.37\n",
            "Customer5     1315.28\n",
            "Customer6     1930.76\n",
            "Customer7     2197.62\n",
            "Customer8     6498.91\n",
            "Customer9     1929.08\n",
            "Name: Gross Profit, dtype: float64\n"
          ]
        }
      ]
    },
    {
      "cell_type": "code",
      "source": [
        "# Determine vendors with consistently low profitability\n",
        "low_profit_vendors = vendor_profit[vendor_profit < vendor_profit.mean()]\n",
        "\n",
        "# Determine customers with low contribution to profit\n",
        "low_profit_customers = customer_profit[customer_profit < customer_profit.mean()]\n",
        "\n",
        "# Print the results\n",
        "print(\"Vendors with Consistently Low Profitability:\")\n",
        "print(low_profit_vendors)\n",
        "\n",
        "print(\"\\nCustomers with Low Contribution to Profit:\")\n",
        "print(low_profit_customers)"
      ],
      "metadata": {
        "colab": {
          "base_uri": "https://localhost:8080/"
        },
        "id": "qmV8hIszeccQ",
        "outputId": "a45c5a45-822b-4d19-c3d1-159976543d06"
      },
      "execution_count": 35,
      "outputs": [
        {
          "output_type": "stream",
          "name": "stdout",
          "text": [
            "Vendors with Consistently Low Profitability:\n",
            "Firm bought from\n",
            "Vendor1     1555.59\n",
            "Vendor10    3040.62\n",
            "Vendor2     1296.98\n",
            "Vendor5     1616.14\n",
            "Vendor6     1217.95\n",
            "Vendor8      253.74\n",
            "Name: Gross Profit, dtype: float64\n",
            "\n",
            "Customers with Low Contribution to Profit:\n",
            "Customer\n",
            "Customer3    1055.05\n",
            "Customer5    1315.28\n",
            "Customer6    1930.76\n",
            "Customer7    2197.62\n",
            "Customer9    1929.08\n",
            "Name: Gross Profit, dtype: float64\n"
          ]
        }
      ]
    },
    {
      "cell_type": "code",
      "source": [
        "# Define criteria for optimization (e.g., a threshold for profitability)\n",
        "vendor_optimization_threshold = -10000\n",
        "customer_optimization_threshold = 5000"
      ],
      "metadata": {
        "id": "lm__bSyThI16"
      },
      "execution_count": 49,
      "outputs": []
    },
    {
      "cell_type": "code",
      "source": [
        "# Identify vendors to consider firing\n",
        "low_profit_vendors = vendor_profit[vendor_profit < vendor_optimization_threshold]\n",
        "\n",
        "# Identify customers to consider letting go\n",
        "low_profit_customers = customer_profit[customer_profit < customer_optimization_threshold]"
      ],
      "metadata": {
        "id": "nwieIrwZhN4l"
      },
      "execution_count": 50,
      "outputs": []
    },
    {
      "cell_type": "code",
      "source": [
        "# Print the results\n",
        "print(\"Vendors to Consider Firing:\")\n",
        "print(low_profit_vendors)\n",
        "\n",
        "print(\"\\nCustomers to Consider Letting Go:\")\n",
        "print(low_profit_customers)"
      ],
      "metadata": {
        "colab": {
          "base_uri": "https://localhost:8080/"
        },
        "id": "_FVIcwgRhR3R",
        "outputId": "548db854-3d6f-4b49-875a-7638da0790cd"
      },
      "execution_count": 51,
      "outputs": [
        {
          "output_type": "stream",
          "name": "stdout",
          "text": [
            "Vendors to Consider Firing:\n",
            "Series([], Name: Gross Profit, dtype: float64)\n",
            "\n",
            "Customers to Consider Letting Go:\n",
            "Customer\n",
            "Customer10    3692.44\n",
            "Customer2     4215.67\n",
            "Customer3     1055.05\n",
            "Customer4     3337.37\n",
            "Customer5     1315.28\n",
            "Customer6     1930.76\n",
            "Customer7     2197.62\n",
            "Customer9     1929.08\n",
            "Name: Gross Profit, dtype: float64\n"
          ]
        }
      ]
    },
    {
      "cell_type": "markdown",
      "source": [
        "## 9. Calculate percentiles for buying and selling prices"
      ],
      "metadata": {
        "id": "Yxnfr7QvexD5"
      }
    },
    {
      "cell_type": "code",
      "source": [
        "# Calculate percentiles for buying and selling prices\n",
        "buying_percentiles = data2['Buying price'].describe(percentiles=[0.25, 0.5, 0.75]).loc[['25%', '50%', '75%']]\n",
        "selling_percentiles = data2['Selling price'].describe(percentiles=[0.25, 0.5, 0.75]).loc[['25%', '50%', '75%']]"
      ],
      "metadata": {
        "id": "szOmb5FXgXGd"
      },
      "execution_count": 52,
      "outputs": []
    },
    {
      "cell_type": "code",
      "source": [
        "# Print the results\n",
        "print(\"25th, 50th (Median), and 75th Percentiles for Buying Prices:\")\n",
        "print(buying_percentiles)"
      ],
      "metadata": {
        "colab": {
          "base_uri": "https://localhost:8080/"
        },
        "id": "X_oasJIIgFIY",
        "outputId": "1b6db7c7-9e76-4120-a366-3bc1a66f87af"
      },
      "execution_count": 53,
      "outputs": [
        {
          "output_type": "stream",
          "name": "stdout",
          "text": [
            "25th, 50th (Median), and 75th Percentiles for Buying Prices:\n",
            "25%    29.90\n",
            "50%    60.76\n",
            "75%    78.32\n",
            "Name: Buying price, dtype: float64\n"
          ]
        }
      ]
    },
    {
      "cell_type": "code",
      "source": [
        "print(\"\\n25th, 50th (Median), and 75th Percentiles for Selling Prices:\")\n",
        "print(selling_percentiles)"
      ],
      "metadata": {
        "colab": {
          "base_uri": "https://localhost:8080/"
        },
        "id": "4_5BkvwBiSQe",
        "outputId": "bb05a758-6265-42d0-8ffb-e2f7b810ae3b"
      },
      "execution_count": 54,
      "outputs": [
        {
          "output_type": "stream",
          "name": "stdout",
          "text": [
            "\n",
            "25th, 50th (Median), and 75th Percentiles for Selling Prices:\n",
            "25%     38.9750\n",
            "50%     78.9900\n",
            "75%    103.3975\n",
            "Name: Selling price, dtype: float64\n"
          ]
        }
      ]
    },
    {
      "cell_type": "markdown",
      "source": [
        "## 6. Analyze price trends relative to percentiles"
      ],
      "metadata": {
        "id": "_sLVnXSiiYof"
      }
    },
    {
      "cell_type": "code",
      "source": [
        "# Calculate the 25th and 75th percentiles for buying and selling prices\n",
        "buying_percentiles = data2['Buying price'].describe(percentiles=[0.25, 0.75]).loc[['25%', '75%']]\n",
        "selling_percentiles = data2['Selling price'].describe(percentiles=[0.25, 0.75]).loc[['25%', '75%']]"
      ],
      "metadata": {
        "id": "hkNo2i9DiXll"
      },
      "execution_count": 55,
      "outputs": []
    },
    {
      "cell_type": "code",
      "source": [
        "# Identify transactions where buying price is below the 25th percentile or above the 75th percentile\n",
        "below_25th_buying = data2['Buying price'] < buying_percentiles['25%']\n",
        "above_75th_buying = data2['Buying price'] > buying_percentiles['75%']\n",
        "\n",
        "# Identify transactions where selling price is below the 25th percentile or above the 75th percentile\n",
        "below_25th_selling = data2['Selling price'] < selling_percentiles['25%']\n",
        "above_75th_selling = data2['Selling price'] > selling_percentiles['75%']"
      ],
      "metadata": {
        "id": "gwTmlOZrivuV"
      },
      "execution_count": 56,
      "outputs": []
    },
    {
      "cell_type": "code",
      "source": [
        "# Calculate the frequency of transactions falling below/above the percentiles\n",
        "freq_below_25th_buying = below_25th_buying.sum()\n",
        "freq_above_75th_buying = above_75th_buying.sum()\n",
        "\n",
        "freq_below_25th_selling = below_25th_selling.sum()\n",
        "freq_above_75th_selling = above_75th_selling.sum()"
      ],
      "metadata": {
        "id": "XX4FvZVYiwSn"
      },
      "execution_count": 57,
      "outputs": []
    },
    {
      "cell_type": "code",
      "source": [
        "# Print the results\n",
        "print(\"Frequency of Buying Prices Below 25th Percentile:\", freq_below_25th_buying)\n",
        "print(\"Frequency of Buying Prices Above 75th Percentile:\", freq_above_75th_buying)\n",
        "\n",
        "print(\"\\nFrequency of Selling Prices Below 25th Percentile:\", freq_below_25th_selling)\n",
        "print(\"Frequency of Selling Prices Above 75th Percentile:\", freq_above_75th_selling)"
      ],
      "metadata": {
        "colab": {
          "base_uri": "https://localhost:8080/"
        },
        "id": "0XsH16DgiyTA",
        "outputId": "1eb9fc7e-d9bd-44a9-edd4-79c00735023c"
      },
      "execution_count": 58,
      "outputs": [
        {
          "output_type": "stream",
          "name": "stdout",
          "text": [
            "Frequency of Buying Prices Below 25th Percentile: 18\n",
            "Frequency of Buying Prices Above 75th Percentile: 18\n",
            "\n",
            "Frequency of Selling Prices Below 25th Percentile: 18\n",
            "Frequency of Selling Prices Above 75th Percentile: 18\n"
          ]
        }
      ]
    },
    {
      "cell_type": "markdown",
      "source": [
        "### 11. Impact on Optimal Gross Margin from Honoring Vendor 4"
      ],
      "metadata": {
        "id": "OGny6DrQjDBU"
      }
    },
    {
      "cell_type": "code",
      "source": [
        "# Calculate the impact on gross margin from honoring Vendor 4\n",
        "# Calculate the original gross margin\n",
        "original_gross_margin = data2['Gross Profit'].sum()\n",
        "\n",
        "# Filter data to honor Vendor 4\n",
        "vendor_4_data = data2[data2['Firm bought from'] == 'Vendor4']\n",
        "\n",
        "# Calculate the new gross margin after honoring Vendor 4\n",
        "new_gross_margin = original_gross_margin + vendor_4_data['Gross Profit'].sum()\n",
        "\n",
        "# Calculate the impact on gross margin\n",
        "impact_on_gross_margin = new_gross_margin - original_gross_margin\n",
        "\n",
        "# Print the impact on gross margin\n",
        "print(\"Impact on Gross Margin from Honoring Vendor 4:\", impact_on_gross_margin)"
      ],
      "metadata": {
        "colab": {
          "base_uri": "https://localhost:8080/"
        },
        "id": "JLhQy45Mi0s3",
        "outputId": "cf7ce14b-18e6-4c99-fa12-91bac79fddc6"
      },
      "execution_count": 59,
      "outputs": [
        {
          "output_type": "stream",
          "name": "stdout",
          "text": [
            "Impact on Gross Margin from Honoring Vendor 4: 6903.309999999998\n"
          ]
        }
      ]
    },
    {
      "cell_type": "markdown",
      "source": [
        "## 12. Identifying the Vendor for a Strategic Tie-Up"
      ],
      "metadata": {
        "id": "AqcO4arVjNkg"
      }
    },
    {
      "cell_type": "code",
      "source": [
        "# Calculate the gross margin for each vendor\n",
        "vendor_gross_margin = data2.groupby('Firm bought from')['Gross Profit'].sum()\n",
        "\n",
        "# Identify the vendor with the highest gross margin\n",
        "max_margin_vendor = vendor_gross_margin.idxmax()\n",
        "\n",
        "# Calculate the theoretical maximum margin from that vendor\n",
        "theoretical_max_margin = vendor_gross_margin[max_margin_vendor]\n",
        "\n",
        "# Print the vendor with the highest margin and the theoretical maximum margin\n",
        "print(\"Vendor for Strategic Tie-Up:\", max_margin_vendor)\n",
        "print(\"Theoretical Maximum Margin from that Vendor:\", theoretical_max_margin)"
      ],
      "metadata": {
        "colab": {
          "base_uri": "https://localhost:8080/"
        },
        "id": "AYGsDTCIjQ8k",
        "outputId": "7e511d42-fbcd-4870-9926-0b3d11f0b5ef"
      },
      "execution_count": 60,
      "outputs": [
        {
          "output_type": "stream",
          "name": "stdout",
          "text": [
            "Vendor for Strategic Tie-Up: Vendor4\n",
            "Theoretical Maximum Margin from that Vendor: 6903.31\n"
          ]
        }
      ]
    },
    {
      "cell_type": "markdown",
      "source": [
        "## 13. Price Elasticity of Sapota"
      ],
      "metadata": {
        "id": "VmiJt_ChjVlF"
      }
    },
    {
      "cell_type": "code",
      "source": [
        "import statsmodels.api as sm\n",
        "\n",
        "# Assuming 'data2' is your dataset\n",
        "X = data2[['Buying price', 'Selling price']]\n",
        "X = sm.add_constant(X)  # Add a constant (intercept) term\n",
        "y = data2['Quantity sold']\n",
        "\n",
        "model = sm.OLS(y, X).fit()  # Fit a linear regression model\n",
        "price_elasticity = model.params['Selling price']  # The coefficient for Selling price\n",
        "\n",
        "# Print the price elasticity\n",
        "print(\"Price Elasticity of Sapota:\", price_elasticity)"
      ],
      "metadata": {
        "colab": {
          "base_uri": "https://localhost:8080/"
        },
        "id": "zmldLfU2jSxJ",
        "outputId": "6e925665-5814-40da-bf60-2bdb499e3fe0"
      },
      "execution_count": 61,
      "outputs": [
        {
          "output_type": "stream",
          "name": "stdout",
          "text": [
            "Price Elasticity of Sapota: 0.5663090598121112\n"
          ]
        }
      ]
    },
    {
      "cell_type": "code",
      "source": [],
      "metadata": {
        "id": "khU_cW21jeqh"
      },
      "execution_count": null,
      "outputs": []
    }
  ]
}